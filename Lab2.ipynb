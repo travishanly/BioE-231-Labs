{
 "cells": [
  {
   "cell_type": "markdown",
   "metadata": {},
   "source": [
    "# Overview \n",
    "\n",
    "In this lab, you will use your Python skills to analyze the SARS-CoV-2 genome\n",
    "in various ways.\n",
    " \n",
    "We will be using the RefSeq genome sequence from NCBI\n",
    "(https://www.ncbi.nlm.nih.gov/nuccore/NC_045512). For the lab, you will\n",
    "use a few techniques (string manipulation, dictionaries, plotting) that are (as\n",
    "you will see throughout the course) very useful in biological sequence analysis.\n",
    "\n",
    "As with any coding questions, Google and Python documentation are your\n",
    "friend! Like always, make sure to clone your Github repo to Datahub, document all your steps and answer all questions using Markdown sections in your\n",
    "Jupyter notebook, and display all plots inline.\n",
    "\n",
    "## Submission checklist\n",
    "\n",
    "- Commit notebook on DataHub and push to GitHub\n",
    "- Make sure `lab-2-username` repository contains changes on GitHub (GSIs can see your private repos)"
   ]
  },
  {
   "cell_type": "markdown",
   "metadata": {},
   "source": [
    "# Read data"
   ]
  },
  {
   "cell_type": "markdown",
   "metadata": {},
   "source": [
    "First, let's read the genome fasta file using Biopython, and store the genome as a\n",
    "Python string. Similarly, let's read the transcriptome fasta file, and store the\n",
    "transcriptome as a list of strings. Be sure that you are working with native\n",
    "python strings and lists, not Biopython Seq objects. You are not allowed to use any BioPython function from now onwards."
   ]
  },
  {
   "cell_type": "code",
   "execution_count": null,
   "metadata": {},
   "outputs": [],
   "source": [
    "# Installing BioPython\n",
    "#!conda install -y -q -c conda-forge biopython"
   ]
  },
  {
   "cell_type": "code",
   "execution_count": 1,
   "metadata": {},
   "outputs": [],
   "source": [
    "from Bio import SeqIO\n",
    "\n",
    "raw_genome_data = [item for item in SeqIO.parse(\"sequence.fa\", \"fasta\")]\n",
    "genome = str(raw_genome_data[0].seq)\n",
    "\n",
    "raw_transcriptome_data = [item for item in SeqIO.parse(\"transcriptome.fa\", \"fasta\")]\n",
    "transcriptome = [str(item.seq) for item in raw_transcriptome_data]"
   ]
  },
  {
   "cell_type": "markdown",
   "metadata": {},
   "source": [
    "# Conversion"
   ]
  },
  {
   "cell_type": "markdown",
   "metadata": {},
   "source": [
    "The genome on the RefSeq database is the cDNA version of the genome,\n",
    "but SARS-CoV-2 is an RNA virus! Convert the genome into an RNA\n",
    "string. Print the first 100 bp."
   ]
  },
  {
   "cell_type": "code",
   "execution_count": 2,
   "metadata": {},
   "outputs": [
    {
     "name": "stdout",
     "output_type": "stream",
     "text": [
      "AUUAAAGGUUUAUACCUUCCCAGGUAACAAACCAACCAACUUUCGAUCUCUUGUAGAUCUGUUCUCUAAACGAACUUUAAAAUCUGUGUGGCUGUCACUC\n"
     ]
    }
   ],
   "source": [
    "genome_rna = genome.replace(\"T\", \"U\")\n",
    "print(genome_rna[0:100])"
   ]
  },
  {
   "cell_type": "markdown",
   "metadata": {},
   "source": [
    "The SARS-CoV-2 genome is positive stranded. Convert the genome into\n",
    "a negative strand sequence by computing the reverse complement. Print\n",
    "the first 100 bp of the reverse complement sequence."
   ]
  },
  {
   "cell_type": "code",
   "execution_count": 3,
   "metadata": {},
   "outputs": [
    {
     "name": "stdout",
     "output_type": "stream",
     "text": [
      "UUUUUUUUUUUUUUUUUUUUUUUUUUUUUUUUUGUCAUUCUCCUAAGAAGCUAUUAAAAUCACAUGGGGAUAGCACUACUAAAAUUAAUUUUACACAUUA\n"
     ]
    }
   ],
   "source": [
    "complement_dict = {\n",
    "    'A' : 'U',\n",
    "    'C' : 'G',\n",
    "    'U' : 'A',\n",
    "    'G' : 'C'\n",
    "}\n",
    "\n",
    "genome_rna_reverse = genome_rna[::-1]\n",
    "genome_rna_reverse_complement = ''.join(complement_dict[base] for base in genome_rna_reverse)\n",
    "print(genome_rna_reverse_complement[0:100])"
   ]
  },
  {
   "cell_type": "markdown",
   "metadata": {},
   "source": [
    "# $k$-mer analysis"
   ]
  },
  {
   "cell_type": "markdown",
   "metadata": {},
   "source": [
    "## Part 1\n",
    "\n",
    "What does a $k$-mer represent?"
   ]
  },
  {
   "cell_type": "markdown",
   "metadata": {},
   "source": [
    "### Answer"
   ]
  },
  {
   "cell_type": "markdown",
   "metadata": {},
   "source": [
    "A 𝑘-mer is a run of characters of length 𝑘 within a sequence. For example, 'ATG' could be a 3-mer in a DNA sequence."
   ]
  },
  {
   "cell_type": "markdown",
   "metadata": {},
   "source": [
    "## Part 2\n",
    "\n",
    "Build two dictionaries of $k$-mers, one for $k=3$ (use `threemers` as variable name) and one for $k=4$ (respectively, `fourmers`). To find\n",
    "the $k$-mers, scan along the sequence with a window size of $k$ and a stride\n",
    "of 1."
   ]
  },
  {
   "cell_type": "code",
   "execution_count": 4,
   "metadata": {},
   "outputs": [],
   "source": [
    "def build_kmer_counts(k, sequence):\n",
    "    kmer_counts = {}\n",
    "    for i in range(len(sequence) - (k-1)):\n",
    "        kmer = sequence[i:i+k]\n",
    "        if kmer in kmer_counts: \n",
    "            kmer_counts[kmer] += 1\n",
    "        else:\n",
    "            kmer_counts[kmer] = 1\n",
    "    return(kmer_counts)\n",
    "            \n",
    "#Per Piazza, using the reverse complement\n",
    "threemers = build_kmer_counts(3, genome_rna_reverse_complement)\n",
    "fourmers = build_kmer_counts(4, genome_rna_reverse_complement)"
   ]
  },
  {
   "cell_type": "markdown",
   "metadata": {},
   "source": [
    "## Part 3\n",
    "|\n",
    "Plot a bar graph of the frequency of each 4-mer. Include only the 50 most\n",
    "frequent 4-mers, and sort the bars in the plot by frequency (most frequent\n",
    "→ least frequent)."
   ]
  },
  {
   "cell_type": "code",
   "execution_count": 5,
   "metadata": {},
   "outputs": [
    {
     "data": {
      "image/png": "[encoded data removed]",
      "text/plain": [
       "<Figure size 1152x432 with 1 Axes>"
      ]
     },
     "metadata": {
      "needs_background": "light"
     },
     "output_type": "display_data"
    }
   ],
   "source": [
    "import matplotlib.pyplot as plt\n",
    "%matplotlib inline\n",
    "import pandas as pd\n",
    "\n",
    "top_fourmers_sorted = sorted(list(fourmers.items()), key = lambda x: x[1])[::-1][0:50]\n",
    "fourmers_frame = pd.DataFrame(top_fourmers_sorted, columns=[\"4-mer\", \"Count\"]).set_index(\"4-mer\")\n",
    "\n",
    "f, ax = plt.subplots(figsize=(16,6))\n",
    "plt.bar(fourmers_frame.index, fourmers_frame[\"Count\"])\n",
    "plt.xticks(rotation = 90)\n",
    "plt.show()"
   ]
  },
  {
   "cell_type": "markdown",
   "metadata": {},
   "source": [
    "## Part 4\n",
    "\n",
    "Plot the frequency of all 64 3-mers, similarly sorted by\n",
    "frequency."
   ]
  },
  {
   "cell_type": "code",
   "execution_count": 6,
   "metadata": {},
   "outputs": [
    {
     "data": {
      "image/png": "[encoded data removed]",
      "text/plain": [
       "<Figure size 1152x432 with 1 Axes>"
      ]
     },
     "metadata": {
      "needs_background": "light"
     },
     "output_type": "display_data"
    }
   ],
   "source": [
    "threemers_sorted = sorted(list(threemers.items()), key = lambda x: x[1])[::-1]\n",
    "threemers_frame = pd.DataFrame(threemers_sorted, columns=[\"3-mer\", \"Count\"]).set_index(\"3-mer\")\n",
    "\n",
    "f, ax = plt.subplots(figsize=(16,6))\n",
    "plt.bar(threemers_frame.index, threemers_frame[\"Count\"])\n",
    "plt.xticks(rotation = 90)\n",
    "plt.show()"
   ]
  },
  {
   "cell_type": "markdown",
   "metadata": {},
   "source": [
    "# Translation"
   ]
  },
  {
   "cell_type": "markdown",
   "metadata": {},
   "source": [
    "We have a transcriptome which contains the mRNA sequences expressed\n",
    "by the virus, but we want to know the final protein sequences. Build a\n",
    "new list of the proteins by converting each mRNA sequence to an amino\n",
    "acid sequence. Print the amino acid sequence for the S protein."
   ]
  },
  {
   "cell_type": "code",
   "execution_count": 7,
   "metadata": {},
   "outputs": [
    {
     "name": "stdout",
     "output_type": "stream",
     "text": [
      "MFVFLVLLPLVSSQCVNLTTRTQLPPAYTNSFTRGVYYPDKVFRSSVLHSTQDLFLPFFSNVTWFHAIHVSGTNGTKRFDNPVLPFNDGVYFASTEKSNIIRGWIFGTTLDSKTQSLLIVNNATNVVIKVCEFQFCNDPFLGVYYHKNNKSWMESEFRVYSSANNCTFEYVSQPFLMDLEGKQGNFKNLREFVFKNIDGYFKIYSKHTPINLVRDLPQGFSALEPLVDLPIGINITRFQTLLALHRSYLTPGDSSSGWTAGAAAYYVGYLQPRTFLLKYNENGTITDAVDCALDPLSETKCTLKSFTVEKGIYQTSNFRVQPTESIVRFPNITNLCPFGEVFNATRFASVYAWNRKRISNCVADYSVLYNSASFSTFKCYGVSPTKLNDLCFTNVYADSFVIRGDEVRQIAPGQTGKIADYNYKLPDDFTGCVIAWNSNNLDSKVGGNYNYLYRLFRKSNLKPFERDISTEIYQAGSTPCNGVEGFNCYFPLQSYGFQPTNGVGYQPYRVVVLSFELLHAPATVCGPKKSTNLVKNKCVNFNFNGLTGTGVLTESNKKFLPFQQFGRDIADTTDAVRDPQTLEILDITPCSFGGVSVITPGTNTSNQVAVLYQDVNCTEVPVAIHADQLTPTWRVYSTGSNVFQTRAGCLIGAEHVNNSYECDIPIGAGICASYQTQTNSPRRARSVASQSIIAYTMSLGAENSVAYSNNSIAIPTNFTISVTTEILPVSMTKTSVDCTMYICGDSTECSNLLLQYGSFCTQLNRALTGIAVEQDKNTQEVFAQVKQIYKTPPIKDFGGFNFSQILPDPSKPSKRSFIEDLLFNKVTLADAGFIKQYGDCLGDIAARDLICAQKFNGLTVLPPLLTDEMIAQYTSALLAGTITSGWTFGAGAALQIPFAMQMAYRFNGIGVTQNVLYENQKLIANQFNSAIGKIQDSLSSTASALGKLQDVVNQNAQALNTLVKQLSSNFGAISSVLNDILSRLDKVEAEVQIDRLITGRLQSLQTYVTQQLIRAAEIRASANLAATKMSECVLGQSKRVDFCGKGYHLMSFPQSAPHGVVFLHVTYVPAQEKNFTTAPAICHDGKAHFPREGVFVSNGTHWFVTQRNFYEPQIITTDNTFVSGNCDVVIGIVNNTVYDPLQPELDSFKEELDKYFKNHTSPDVDLGDISGINASVVNIQKEIDRLNEVAKNLNESLIDLQELGKYEQYIKWPWYIWLGFIAGLIAIVMVTIMLCCMTSCCSCLKGCCSCGSCCKFDEDDSEPVLKGVKLHYT\n"
     ]
    }
   ],
   "source": [
    "#Ignoring stop codons\n",
    "translation_dict = {\n",
    "'TTT':'F', 'TCT':'S', 'TAT':'Y', 'TGT':'C',  \n",
    "'TTC':'F', 'TCC':'S', 'TAC':'Y', 'TGC':'C',  \n",
    "'TTA':'L', 'TCA':'S', 'TAA':'', 'TGA':'',  \n",
    "'TTG':'L', 'TCG':'S', 'TAG':'', 'TGG':'W',\n",
    "'CTT':'L', 'CCT':'P', 'CAT':'H', 'CGT':'R',\n",
    "'CTC':'L', 'CCC':'P', 'CAC':'H', 'CGC':'R',  \n",
    "'CTA':'L', 'CCA':'P', 'CAA':'Q', 'CGA':'R',  \n",
    "'CTG':'L', 'CCG':'P', 'CAG':'Q', 'CGG':'R',  \n",
    "'ATT':'I', 'ACT':'T', 'AAT':'N', 'AGT':'S',  \n",
    "'ATC':'I', 'ACC':'T', 'AAC':'N', 'AGC':'S',   \n",
    "'ATA':'I', 'ACA':'T', 'AAA':'K', 'AGA':'R',   \n",
    "'ATG':'M', 'ACG':'T', 'AAG':'K', 'AGG':'R',   \n",
    "'GTT':'V', 'GCT':'A', 'GAT':'D', 'GGT':'G',   \n",
    "'GTC':'V', 'GCC':'A', 'GAC':'D', 'GGC':'G',   \n",
    "'GTA':'V', 'GCA':'A', 'GAA':'E', 'GGA':'G', \n",
    "'GTG':'V', 'GCG':'A', 'GAG':'E', 'GGG':'G'}\n",
    "\n",
    "translated_transcriptome = []\n",
    "for sequence in transcriptome:\n",
    "    seq_len = len(sequence)\n",
    "    amino_list = []\n",
    "    for i in range(0, seq_len-2, 3):\n",
    "        #Per Piazza instructions, if we have a number of bases non-divisable by 3 (due to a frameshift) we cut off the extra bases\n",
    "        if (i+3)%seq_len < i:\n",
    "            continue\n",
    "        codon = sequence[i:i+3]\n",
    "        amino_list.append(translation_dict[codon])\n",
    "    amino_string = ''.join(amino_list)\n",
    "    translated_transcriptome.append(amino_string)\n",
    "    \n",
    "spike_protein_index = 1 #Found by manually opening the file and finding \"Gene = S\"\n",
    "spike_protein = translated_transcriptome[spike_protein_index]\n",
    "print(spike_protein)"
   ]
  },
  {
   "cell_type": "markdown",
   "metadata": {},
   "source": [
    "Make a bar chart of amino acid composition per transcript. You should\n",
    "have a bar for each transcript (the x-axis), and you should have 20 stacked\n",
    "bars, one for each amino acid.\n",
    "\n",
    "To make this bar chart, we can leverage the Pandas package to create a `DataFrame` that makes the data amenable to a 1-line command for plotting.\n",
    "\n",
    "This `DataFrame` should have the following structure:"
   ]
  },
  {
   "cell_type": "code",
   "execution_count": 8,
   "metadata": {},
   "outputs": [
    {
     "data": {
      "text/html": [
       "<div>\n",
       "<style scoped>\n",
       "    .dataframe tbody tr th:only-of-type {\n",
       "        vertical-align: middle;\n",
       "    }\n",
       "\n",
       "    .dataframe tbody tr th {\n",
       "        vertical-align: top;\n",
       "    }\n",
       "\n",
       "    .dataframe thead th {\n",
       "        text-align: right;\n",
       "    }\n",
       "</style>\n",
       "<table border=\"1\" class=\"dataframe\">\n",
       "  <thead>\n",
       "    <tr style=\"text-align: right;\">\n",
       "      <th></th>\n",
       "      <th>Gene</th>\n",
       "      <th>Position</th>\n",
       "      <th>AA</th>\n",
       "    </tr>\n",
       "  </thead>\n",
       "  <tbody>\n",
       "    <tr>\n",
       "      <th>0</th>\n",
       "      <td>Gene 1</td>\n",
       "      <td>1</td>\n",
       "      <td>D</td>\n",
       "    </tr>\n",
       "    <tr>\n",
       "      <th>1</th>\n",
       "      <td>Gene 1</td>\n",
       "      <td>2</td>\n",
       "      <td>T</td>\n",
       "    </tr>\n",
       "    <tr>\n",
       "      <th>2</th>\n",
       "      <td>Gene 1</td>\n",
       "      <td>3</td>\n",
       "      <td>P</td>\n",
       "    </tr>\n",
       "    <tr>\n",
       "      <th>3</th>\n",
       "      <td>Gene 2</td>\n",
       "      <td>1</td>\n",
       "      <td>A</td>\n",
       "    </tr>\n",
       "    <tr>\n",
       "      <th>4</th>\n",
       "      <td>Gene 2</td>\n",
       "      <td>2</td>\n",
       "      <td>B</td>\n",
       "    </tr>\n",
       "    <tr>\n",
       "      <th>5</th>\n",
       "      <td>Gene 2</td>\n",
       "      <td>3</td>\n",
       "      <td>A</td>\n",
       "    </tr>\n",
       "    <tr>\n",
       "      <th>6</th>\n",
       "      <td>Gene 3</td>\n",
       "      <td>1</td>\n",
       "      <td>D</td>\n",
       "    </tr>\n",
       "    <tr>\n",
       "      <th>7</th>\n",
       "      <td>Gene 3</td>\n",
       "      <td>2</td>\n",
       "      <td>A</td>\n",
       "    </tr>\n",
       "    <tr>\n",
       "      <th>8</th>\n",
       "      <td>Gene 3</td>\n",
       "      <td>3</td>\n",
       "      <td>T</td>\n",
       "    </tr>\n",
       "  </tbody>\n",
       "</table>\n",
       "</div>"
      ],
      "text/plain": [
       "     Gene  Position AA\n",
       "0  Gene 1         1  D\n",
       "1  Gene 1         2  T\n",
       "2  Gene 1         3  P\n",
       "3  Gene 2         1  A\n",
       "4  Gene 2         2  B\n",
       "5  Gene 2         3  A\n",
       "6  Gene 3         1  D\n",
       "7  Gene 3         2  A\n",
       "8  Gene 3         3  T"
      ]
     },
     "execution_count": 8,
     "metadata": {},
     "output_type": "execute_result"
    }
   ],
   "source": [
    "# example DataFrame, your DataFrame should have the same exact columns\n",
    "import pandas as pd\n",
    "\n",
    "df = pd.DataFrame(columns=[\"Gene\", \"Position\", \"AA\"])\n",
    "df[\"Position\"] = [1, 2, 3] * 3\n",
    "df[\"Gene\"] = [\"Gene 1\"] * 3 + [\"Gene 2\"] * 3 + [\"Gene 3\"] * 3\n",
    "# random and just for example\n",
    "df[\"AA\"] = [\"D\", \"T\", \"P\"] + [\"A\", \"B\", \"A\"] + [\"D\", \"A\", \"T\"]\n",
    "\n",
    "df"
   ]
  },
  {
   "cell_type": "markdown",
   "metadata": {},
   "source": [
    "This is called a **long-form** dataframe! Each gene is repeated many times in the gene column"
   ]
  },
  {
   "cell_type": "code",
   "execution_count": 9,
   "metadata": {},
   "outputs": [
    {
     "data": {
      "image/png": "[encoded data removed]",
      "text/plain": [
       "<Figure size 432x288 with 1 Axes>"
      ]
     },
     "metadata": {
      "needs_background": "light"
     },
     "output_type": "display_data"
    }
   ],
   "source": [
    "gene_frames = []\n",
    "gene_num = 1\n",
    "for gene in translated_transcriptome:\n",
    "    aminos = [char for char in gene]\n",
    "    indices = [i for i in range(len(aminos))]\n",
    "    gene_name = [\"Gene \" + str(gene_num) for i in range(len(aminos))]\n",
    "    \n",
    "    new_frame = pd.DataFrame(columns=[\"Gene\", \"Position\", \"AA\"])\n",
    "    new_frame[\"Gene\"] = gene_name\n",
    "    new_frame[\"Position\"] = indices\n",
    "    new_frame[\"AA\"] = aminos \n",
    "    \n",
    "    gene_frames.append(new_frame)\n",
    "    gene_num += 1\n",
    "\n",
    "longform_frame = pd.concat(gene_frames)\n",
    "\n",
    "#Chart produced is ugly, but kept it to stick with a \"1-line command for plotting\" as per the instructions\n",
    "chart = longform_frame.groupby(\"Gene\").AA.value_counts(normalize=True).unstack().plot.bar(stacked=True)"
   ]
  }
 ],
 "metadata": {
  "kernelspec": {
   "display_name": "Python 3 (ipykernel)",
   "language": "python",
   "name": "python3"
  },
  "language_info": {
   "codemirror_mode": {
    "name": "ipython",
    "version": 3
   },
   "file_extension": ".py",
   "mimetype": "text/x-python",
   "name": "python",
   "nbconvert_exporter": "python",
   "pygments_lexer": "ipython3",
   "version": "3.9.7"
  }
 },
 "nbformat": 4,
 "nbformat_minor": 4
}
