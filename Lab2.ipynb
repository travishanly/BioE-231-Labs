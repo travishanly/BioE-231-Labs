{
 "cells": [
  {
   "cell_type": "markdown",
   "metadata": {},
   "source": [
    "# Overview \n",
    "\n",
    "In this lab, you will use your Python skills to analyze the SARS-CoV-2 genome\n",
    "in various ways.\n",
    " \n",
    "We will be using the RefSeq genome sequence from NCBI\n",
    "(https://www.ncbi.nlm.nih.gov/nuccore/NC_045512). For the lab, you will\n",
    "use a few techniques (string manipulation, dictionaries, plotting) that are (as\n",
    "you will see throughout the course) very useful in biological sequence analysis.\n",
    "\n",
    "As with any coding questions, Google and Python documentation are your\n",
    "friend! Like always, make sure to clone your Github repo to Datahub, document all your steps and answer all questions using Markdown sections in your\n",
    "Jupyter notebook, and display all plots inline.\n",
    "\n",
    "## Submission checklist\n",
    "\n",
    "- Commit notebook on DataHub and push to GitHub\n",
    "- Make sure `lab-2-username` repository contains changes on GitHub (GSIs can see your private repos)"
   ]
  },
  {
   "cell_type": "markdown",
   "metadata": {},
   "source": [
    "# Read data"
   ]
  },
  {
   "cell_type": "markdown",
   "metadata": {},
   "source": [
    "First, let's read the genome fasta file using Biopython, and store the genome as a\n",
    "Python string. Similarly, let's read the transcriptome fasta file, and store the\n",
    "transcriptome as a list of strings. Be sure that you are working with native\n",
    "python strings and lists, not Biopython Seq objects. You are not allowed to use any BioPython function from now onwards."
   ]
  },
  {
   "cell_type": "code",
   "execution_count": 1,
   "metadata": {},
   "outputs": [
    {
     "name": "stdout",
     "output_type": "stream",
     "text": [
      "Collecting package metadata (current_repodata.json): ...working... done\n",
      "Solving environment: ...working... done\n",
      "\n",
      "## Package Plan ##\n",
      "\n",
      "  environment location: /opt/conda\n",
      "\n",
      "  added / updated specs:\n",
      "    - biopython\n",
      "\n",
      "\n",
      "The following packages will be downloaded:\n",
      "\n",
      "    package                    |            build\n",
      "    ---------------------------|-----------------\n",
      "    biopython-1.79             |   py39h3811e60_0         2.6 MB  conda-forge\n",
      "    libblas-3.9.0              |11_linux64_openblas          12 KB  conda-forge\n",
      "    libcblas-3.9.0             |11_linux64_openblas          11 KB  conda-forge\n",
      "    libgfortran-ng-11.1.0      |       h69a702a_8          19 KB  conda-forge\n",
      "    libgfortran5-11.1.0        |       h6c583b3_8         1.7 MB  conda-forge\n",
      "    liblapack-3.9.0            |11_linux64_openblas          11 KB  conda-forge\n",
      "    libopenblas-0.3.17         |pthreads_h8fe5266_1         9.2 MB  conda-forge\n",
      "    numpy-1.21.2               |   py39hdbf815f_0         6.2 MB  conda-forge\n",
      "    ------------------------------------------------------------\n",
      "                                           Total:        19.8 MB\n",
      "\n",
      "The following NEW packages will be INSTALLED:\n",
      "\n",
      "  biopython          conda-forge/linux-64::biopython-1.79-py39h3811e60_0\n",
      "  libblas            conda-forge/linux-64::libblas-3.9.0-11_linux64_openblas\n",
      "  libcblas           conda-forge/linux-64::libcblas-3.9.0-11_linux64_openblas\n",
      "  libgfortran-ng     conda-forge/linux-64::libgfortran-ng-11.1.0-h69a702a_8\n",
      "  libgfortran5       conda-forge/linux-64::libgfortran5-11.1.0-h6c583b3_8\n",
      "  liblapack          conda-forge/linux-64::liblapack-3.9.0-11_linux64_openblas\n",
      "  libopenblas        conda-forge/linux-64::libopenblas-0.3.17-pthreads_h8fe5266_1\n",
      "  numpy              conda-forge/linux-64::numpy-1.21.2-py39hdbf815f_0\n",
      "\n",
      "\n",
      "Preparing transaction: ...working... done\n",
      "Verifying transaction: ...working... done\n",
      "Executing transaction: ...working... done\n"
     ]
    }
   ],
   "source": [
    "# Installing BioPython\n",
    "!conda install -y -q -c conda-forge biopython"
   ]
  },
  {
   "cell_type": "code",
   "execution_count": 2,
   "metadata": {},
   "outputs": [],
   "source": [
    "from Bio import SeqIO\n",
    "\n",
    "raw_genome_data = [item for item in SeqIO.parse(\"sequence.fa\", \"fasta\")]\n",
    "genome = str(raw_genome_data[0].seq)\n",
    "\n",
    "raw_transcriptome_data = [item for item in SeqIO.parse(\"transcriptome.fa\", \"fasta\")]\n",
    "transcriptome = [str(item.seq) for item in raw_transcriptome_data]"
   ]
  },
  {
   "cell_type": "markdown",
   "metadata": {},
   "source": [
    "# Conversion"
   ]
  },
  {
   "cell_type": "markdown",
   "metadata": {},
   "source": [
    "The genome on the RefSeq database is the cDNA version of the genome,\n",
    "but SARS-CoV-2 is an RNA virus! Convert the genome into an RNA\n",
    "string. Print the first 100 bp."
   ]
  },
  {
   "cell_type": "code",
   "execution_count": 3,
   "metadata": {},
   "outputs": [
    {
     "name": "stdout",
     "output_type": "stream",
     "text": [
      "AUUAAAGGUUUAUACCUUCCCAGGUAACAAACCAACCAACUUUCGAUCUCUUGUAGAUCUGUUCUCUAAACGAACUUUAAAAUCUGUGUGGCUGUCACUC\n"
     ]
    }
   ],
   "source": [
    "genome_rna = genome.replace(\"T\", \"U\")\n",
    "print(genome_rna[0:100])"
   ]
  },
  {
   "cell_type": "markdown",
   "metadata": {},
   "source": [
    "The SARS-CoV-2 genome is positive stranded. Convert the genome into\n",
    "a negative strand sequence by computing the reverse complement. Print\n",
    "the first 100 bp of the reverse complement sequence."
   ]
  },
  {
   "cell_type": "code",
   "execution_count": 4,
   "metadata": {},
   "outputs": [
    {
     "name": "stdout",
     "output_type": "stream",
     "text": [
      "UUUUUUUUUUUUUUUUUUUUUUUUUUUUUUUUUGUCAUUCUCCUAAGAAGCUAUUAAAAUCACAUGGGGAUAGCACUACUAAAAUUAAUUUUACACAUUA\n"
     ]
    }
   ],
   "source": [
    "complement_dict = {\n",
    "    'A' : 'U',\n",
    "    'C' : 'G',\n",
    "    'U' : 'A',\n",
    "    'G' : 'C'\n",
    "}\n",
    "\n",
    "genome_rna_reverse = genome_rna[::-1]\n",
    "genome_rna_reverse_complement = ''.join(complement_dict[base] for base in genome_rna_reverse)\n",
    "print(genome_rna_reverse_complement[0:100])"
   ]
  },
  {
   "cell_type": "markdown",
   "metadata": {},
   "source": [
    "# $k$-mer analysis"
   ]
  },
  {
   "cell_type": "markdown",
   "metadata": {},
   "source": [
    "## Part 1\n",
    "\n",
    "What does a $k$-mer represent?"
   ]
  },
  {
   "cell_type": "markdown",
   "metadata": {},
   "source": [
    "### Answer"
   ]
  },
  {
   "cell_type": "markdown",
   "metadata": {},
   "source": [
    "A 𝑘-mer is a run of characters of length 𝑘 within a sequence. As an example, \"ATG\" could be a 3-mer in a DNA sequence."
   ]
  },
  {
   "cell_type": "markdown",
   "metadata": {},
   "source": [
    "## Part 2\n",
    "\n",
    "Build two dictionaries of $k$-mers, one for $k=3$ (use `threemers` as variable name) and one for $k=4$ (respectively, `fourmers`). To find\n",
    "the $k$-mers, scan along the sequence with a window size of $k$ and a stride\n",
    "of 1."
   ]
  },
  {
   "cell_type": "code",
   "execution_count": 7,
   "metadata": {},
   "outputs": [],
   "source": [
    "def build_kmer_counts(k, sequence):\n",
    "    kmer_counts = {}\n",
    "    for i in range(len(sequence) - (k-1)):\n",
    "        kmer = sequence[i:i+k]\n",
    "        if kmer in kmer_counts: \n",
    "            kmer_counts[kmer] += 1\n",
    "        else:\n",
    "            kmer_counts[kmer] = 1\n",
    "    return(kmer_counts)\n",
    "            \n",
    "#Per Piazza, using the reverse complement\n",
    "threemers = build_kmer_counts(3, genome_rna_reverse_complement)\n",
    "fourmers = build_kmer_counts(4, genome_rna_reverse_complement)"
   ]
  },
  {
   "cell_type": "markdown",
   "metadata": {},
   "source": [
    "## Part 3\n",
    "|\n",
    "Plot a bar graph of the frequency of each 4-mer. Include only the 50 most\n",
    "frequent 4-mers, and sort the bars in the plot by frequency (most frequent\n",
    "→ least frequent)."
   ]
  },
  {
   "cell_type": "code",
   "execution_count": 8,
   "metadata": {},
   "outputs": [
    {
     "data": {
      "image/png": "[encoded data removed]",
      "text/plain": [
       "<Figure size 1152x432 with 1 Axes>"
      ]
     },
     "metadata": {
      "needs_background": "light"
     },
     "output_type": "display_data"
    }
   ],
   "source": [
    "import matplotlib.pyplot as plt\n",
    "%matplotlib inline\n",
    "import pandas as pd\n",
    "\n",
    "top_fourmers_sorted = sorted(list(fourmers.items()), key = lambda x: x[1])[::-1][0:50]\n",
    "fourmers_frame = pd.DataFrame(top_fourmers_sorted, columns=[\"4-mer\", \"Count\"]).set_index(\"4-mer\")\n",
    "\n",
    "f, ax = plt.subplots(figsize=(16,6))\n",
    "plt.bar(fourmers_frame.index, fourmers_frame[\"Count\"])\n",
    "plt.xticks(rotation = 90)\n",
    "plt.show()"
   ]
  },
  {
   "cell_type": "markdown",
   "metadata": {},
   "source": [
    "## Part 4\n",
    "\n",
    "Plot the frequency of all 64 3-mers, similarly sorted by\n",
    "frequency."
   ]
  },
  {
   "cell_type": "code",
   "execution_count": 9,
   "metadata": {},
   "outputs": [
    {
     "data": {
      "image/png": "[encoded data removed]",
      "text/plain": [
       "<Figure size 1152x432 with 1 Axes>"
      ]
     },
     "metadata": {
      "needs_background": "light"
     },
     "output_type": "display_data"
    }
   ],
   "source": [
    "threemers_sorted = sorted(list(threemers.items()), key = lambda x: x[1])[::-1]\n",
    "threemers_frame = pd.DataFrame(threemers_sorted, columns=[\"3-mer\", \"Count\"]).set_index(\"3-mer\")\n",
    "\n",
    "f, ax = plt.subplots(figsize=(16,6))\n",
    "plt.bar(threemers_frame.index, threemers_frame[\"Count\"])\n",
    "plt.xticks(rotation = 90)\n",
    "plt.show()"
   ]
  },
  {
   "cell_type": "markdown",
   "metadata": {},
   "source": [
    "# Translation"
   ]
  },
  {
   "cell_type": "markdown",
   "metadata": {},
   "source": [
    "We have a transcriptome which contains the mRNA sequences expressed\n",
    "by the virus, but we want to know the final protein sequences. Build a\n",
    "new list of the proteins by converting each mRNA sequence to an amino\n",
    "acid sequence. Print the amino acid sequence for the S protein."
   ]
  },
  {
   "cell_type": "code",
   "execution_count": 10,
   "metadata": {},
   "outputs": [
    {
     "name": "stdout",
     "output_type": "stream",
     "text": [
      "MFVFLVLLPLVSSQCVNLTTRTQLPPAYTNSFTRGVYYPDKVFRSSVLHSTQDLFLPFFSNVTWFHAIHVSGTNGTKRFDNPVLPFNDGVYFASTEKSNIIRGWIFGTTLDSKTQSLLIVNNATNVVIKVCEFQFCNDPFLGVYYHKNNKSWMESEFRVYSSANNCTFEYVSQPFLMDLEGKQGNFKNLREFVFKNIDGYFKIYSKHTPINLVRDLPQGFSALEPLVDLPIGINITRFQTLLALHRSYLTPGDSSSGWTAGAAAYYVGYLQPRTFLLKYNENGTITDAVDCALDPLSETKCTLKSFTVEKGIYQTSNFRVQPTESIVRFPNITNLCPFGEVFNATRFASVYAWNRKRISNCVADYSVLYNSASFSTFKCYGVSPTKLNDLCFTNVYADSFVIRGDEVRQIAPGQTGKIADYNYKLPDDFTGCVIAWNSNNLDSKVGGNYNYLYRLFRKSNLKPFERDISTEIYQAGSTPCNGVEGFNCYFPLQSYGFQPTNGVGYQPYRVVVLSFELLHAPATVCGPKKSTNLVKNKCVNFNFNGLTGTGVLTESNKKFLPFQQFGRDIADTTDAVRDPQTLEILDITPCSFGGVSVITPGTNTSNQVAVLYQDVNCTEVPVAIHADQLTPTWRVYSTGSNVFQTRAGCLIGAEHVNNSYECDIPIGAGICASYQTQTNSPRRARSVASQSIIAYTMSLGAENSVAYSNNSIAIPTNFTISVTTEILPVSMTKTSVDCTMYICGDSTECSNLLLQYGSFCTQLNRALTGIAVEQDKNTQEVFAQVKQIYKTPPIKDFGGFNFSQILPDPSKPSKRSFIEDLLFNKVTLADAGFIKQYGDCLGDIAARDLICAQKFNGLTVLPPLLTDEMIAQYTSALLAGTITSGWTFGAGAALQIPFAMQMAYRFNGIGVTQNVLYENQKLIANQFNSAIGKIQDSLSSTASALGKLQDVVNQNAQALNTLVKQLSSNFGAISSVLNDILSRLDKVEAEVQIDRLITGRLQSLQTYVTQQLIRAAEIRASANLAATKMSECVLGQSKRVDFCGKGYHLMSFPQSAPHGVVFLHVTYVPAQEKNFTTAPAICHDGKAHFPREGVFVSNGTHWFVTQRNFYEPQIITTDNTFVSGNCDVVIGIVNNTVYDPLQPELDSFKEELDKYFKNHTSPDVDLGDISGINASVVNIQKEIDRLNEVAKNLNESLIDLQELGKYEQYIKWPWYIWLGFIAGLIAIVMVTIMLCCMTSCCSCLKGCCSCGSCCKFDEDDSEPVLKGVKLHYT\n"
     ]
    }
   ],
   "source": [
    "#Ignoring stop codons\n",
    "translation_dict = {\n",
    "'TTT':'F', 'TCT':'S', 'TAT':'Y', 'TGT':'C',  \n",
    "'TTC':'F', 'TCC':'S', 'TAC':'Y', 'TGC':'C',  \n",
    "'TTA':'L', 'TCA':'S', 'TAA':'', 'TGA':'',  \n",
    "'TTG':'L', 'TCG':'S', 'TAG':'', 'TGG':'W',\n",
    "'CTT':'L', 'CCT':'P', 'CAT':'H', 'CGT':'R',\n",
    "'CTC':'L', 'CCC':'P', 'CAC':'H', 'CGC':'R',  \n",
    "'CTA':'L', 'CCA':'P', 'CAA':'Q', 'CGA':'R',  \n",
    "'CTG':'L', 'CCG':'P', 'CAG':'Q', 'CGG':'R',  \n",
    "'ATT':'I', 'ACT':'T', 'AAT':'N', 'AGT':'S',  \n",
    "'ATC':'I', 'ACC':'T', 'AAC':'N', 'AGC':'S',   \n",
    "'ATA':'I', 'ACA':'T', 'AAA':'K', 'AGA':'R',   \n",
    "'ATG':'M', 'ACG':'T', 'AAG':'K', 'AGG':'R',   \n",
    "'GTT':'V', 'GCT':'A', 'GAT':'D', 'GGT':'G',   \n",
    "'GTC':'V', 'GCC':'A', 'GAC':'D', 'GGC':'G',   \n",
    "'GTA':'V', 'GCA':'A', 'GAA':'E', 'GGA':'G', \n",
    "'GTG':'V', 'GCG':'A', 'GAG':'E', 'GGG':'G'}\n",
    "\n",
    "translated_transcriptome = []\n",
    "for sequence in transcriptome:\n",
    "    seq_len = len(sequence)\n",
    "    amino_list = []\n",
    "    for i in range(0, seq_len-2, 3):\n",
    "        #Per Piazza instructions, if we have a number of bases non-divisable by 3 (due to a frameshift) we cut off the extra bases\n",
    "        if (i+3)%seq_len < i:\n",
    "            continue\n",
    "        codon = sequence[i:i+3]\n",
    "        amino_list.append(translation_dict[codon])\n",
    "    amino_string = ''.join(amino_list)\n",
    "    translated_transcriptome.append(amino_string)\n",
    "    \n",
    "spike_protein_index = 1 #Found by manually opening the file and finding \"Gene = S\"\n",
    "spike_protein = translated_transcriptome[spike_protein_index]\n",
    "print(spike_protein)"
   ]
  },
  {
   "cell_type": "markdown",
   "metadata": {},
   "source": [
    "Make a bar chart of amino acid composition per transcript. You should\n",
    "have a bar for each transcript (the x-axis), and you should have 20 stacked\n",
    "bars, one for each amino acid.\n",
    "\n",
    "To make this bar chart, we can leverage the Pandas package to create a `DataFrame` that makes the data amenable to a 1-line command for plotting.\n",
    "\n",
    "This `DataFrame` should have the following structure:"
   ]
  },
  {
   "cell_type": "code",
   "execution_count": 13,
   "metadata": {},
   "outputs": [],
   "source": [
    "# example DataFrame, your DataFrame should have the same exact columns\n",
    "import pandas as pd\n",
    "\n",
    "df = pd.DataFrame(columns=[\"Gene\", \"Position\", \"AA\"])\n",
    "df[\"Position\"] = [1, 2, 3] * 3\n",
    "df[\"Gene\"] = [\"Gene 1\"] * 3 + [\"Gene 2\"] * 3 + [\"Gene 3\"] * 3\n",
    "# random and just for example\n",
    "df[\"AA\"] = [\"D\", \"T\", \"P\"] + [\"A\", \"B\", \"A\"] + [\"D\", \"A\", \"T\"]\n",
    "\n",
    "#df"
   ]
  },
  {
   "cell_type": "markdown",
   "metadata": {},
   "source": [
    "This is called a **long-form** dataframe! Each gene is repeated many times in the gene column"
   ]
  },
  {
   "cell_type": "code",
   "execution_count": 31,
   "metadata": {},
   "outputs": [
    {
     "data": {
      "image/png": "[encoded data removed]",
      "text/plain": [
       "<Figure size 1152x432 with 1 Axes>"
      ]
     },
     "metadata": {
      "needs_background": "light"
     },
     "output_type": "display_data"
    }
   ],
   "source": [
    "gene_frames = []\n",
    "gene_num = 1\n",
    "for gene in translated_transcriptome:\n",
    "    aminos = [char for char in gene]\n",
    "    indices = [i for i in range(len(aminos))]\n",
    "    gene_name = [\"Gene \" + str(gene_num) for i in range(len(aminos))]\n",
    "    \n",
    "    new_frame = pd.DataFrame(columns=[\"Gene\", \"Position\", \"AA\"])\n",
    "    new_frame[\"Gene\"] = gene_name\n",
    "    new_frame[\"Position\"] = indices\n",
    "    new_frame[\"AA\"] = aminos \n",
    "    \n",
    "    gene_frames.append(new_frame)\n",
    "    gene_num += 1\n",
    "\n",
    "longform_frame = pd.concat(gene_frames)\n",
    "\n",
    "#Chart produced is ugly, but kept it to stick with a \"1-line command for plotting\" as per the instructions\n",
    "f, ax = plt.subplots(figsize=(16,6))\n",
    "#chart = longform_frame.groupby(\"Gene\").AA.value_counts(normalize=True).unstack().plot.bar(stacked=True)\n"
   ]
  },
  {
   "cell_type": "code",
   "execution_count": 36,
   "metadata": {},
   "outputs": [
    {
     "data": {
      "image/png": "[encoded data removed]",
      "text/plain": [
       "<Figure size 1152x432 with 1 Axes>"
      ]
     },
     "metadata": {
      "needs_background": "light"
     },
     "output_type": "display_data"
    }
   ],
   "source": [
    "f, ax = plt.subplots(figsize=(16,6))\n",
    "for col in grouped_longform.columns:\n",
    "    plt.bar(grouped_longform.index, grouped_longform[col])"
   ]
  },
  {
   "cell_type": "code",
   "execution_count": 30,
   "metadata": {},
   "outputs": [
    {
     "data": {
      "text/html": [
       "<div>\n",
       "<style scoped>\n",
       "    .dataframe tbody tr th:only-of-type {\n",
       "        vertical-align: middle;\n",
       "    }\n",
       "\n",
       "    .dataframe tbody tr th {\n",
       "        vertical-align: top;\n",
       "    }\n",
       "\n",
       "    .dataframe thead th {\n",
       "        text-align: right;\n",
       "    }\n",
       "</style>\n",
       "<table border=\"1\" class=\"dataframe\">\n",
       "  <thead>\n",
       "    <tr style=\"text-align: right;\">\n",
       "      <th></th>\n",
       "      <th>Gene</th>\n",
       "      <th>Position</th>\n",
       "      <th>AA</th>\n",
       "    </tr>\n",
       "  </thead>\n",
       "  <tbody>\n",
       "    <tr>\n",
       "      <th>0</th>\n",
       "      <td>Gene 1</td>\n",
       "      <td>0</td>\n",
       "      <td>M</td>\n",
       "    </tr>\n",
       "    <tr>\n",
       "      <th>1</th>\n",
       "      <td>Gene 1</td>\n",
       "      <td>1</td>\n",
       "      <td>E</td>\n",
       "    </tr>\n",
       "    <tr>\n",
       "      <th>2</th>\n",
       "      <td>Gene 1</td>\n",
       "      <td>2</td>\n",
       "      <td>S</td>\n",
       "    </tr>\n",
       "    <tr>\n",
       "      <th>3</th>\n",
       "      <td>Gene 1</td>\n",
       "      <td>3</td>\n",
       "      <td>L</td>\n",
       "    </tr>\n",
       "    <tr>\n",
       "      <th>4</th>\n",
       "      <td>Gene 1</td>\n",
       "      <td>4</td>\n",
       "      <td>V</td>\n",
       "    </tr>\n",
       "    <tr>\n",
       "      <th>...</th>\n",
       "      <td>...</td>\n",
       "      <td>...</td>\n",
       "      <td>...</td>\n",
       "    </tr>\n",
       "    <tr>\n",
       "      <th>33</th>\n",
       "      <td>Gene 11</td>\n",
       "      <td>33</td>\n",
       "      <td>N</td>\n",
       "    </tr>\n",
       "    <tr>\n",
       "      <th>34</th>\n",
       "      <td>Gene 11</td>\n",
       "      <td>34</td>\n",
       "      <td>F</td>\n",
       "    </tr>\n",
       "    <tr>\n",
       "      <th>35</th>\n",
       "      <td>Gene 11</td>\n",
       "      <td>35</td>\n",
       "      <td>N</td>\n",
       "    </tr>\n",
       "    <tr>\n",
       "      <th>36</th>\n",
       "      <td>Gene 11</td>\n",
       "      <td>36</td>\n",
       "      <td>L</td>\n",
       "    </tr>\n",
       "    <tr>\n",
       "      <th>37</th>\n",
       "      <td>Gene 11</td>\n",
       "      <td>37</td>\n",
       "      <td>T</td>\n",
       "    </tr>\n",
       "  </tbody>\n",
       "</table>\n",
       "<p>9572 rows × 3 columns</p>\n",
       "</div>"
      ],
      "text/plain": [
       "       Gene  Position AA\n",
       "0    Gene 1         0  M\n",
       "1    Gene 1         1  E\n",
       "2    Gene 1         2  S\n",
       "3    Gene 1         3  L\n",
       "4    Gene 1         4  V\n",
       "..      ...       ... ..\n",
       "33  Gene 11        33  N\n",
       "34  Gene 11        34  F\n",
       "35  Gene 11        35  N\n",
       "36  Gene 11        36  L\n",
       "37  Gene 11        37  T\n",
       "\n",
       "[9572 rows x 3 columns]"
      ]
     },
     "execution_count": 30,
     "metadata": {},
     "output_type": "execute_result"
    }
   ],
   "source": [
    "longform_frame"
   ]
  },
  {
   "cell_type": "code",
   "execution_count": 41,
   "metadata": {},
   "outputs": [],
   "source": [
    "grouped_longform = longform_frame.groupby(\"Gene\").AA.value_counts(normalize=True).unstack()\n",
    "grouped_longform.fillna(0, inplace=True)"
   ]
  },
  {
   "cell_type": "code",
   "execution_count": 42,
   "metadata": {},
   "outputs": [
    {
     "data": {
      "text/html": [
       "<div>\n",
       "<style scoped>\n",
       "    .dataframe tbody tr th:only-of-type {\n",
       "        vertical-align: middle;\n",
       "    }\n",
       "\n",
       "    .dataframe tbody tr th {\n",
       "        vertical-align: top;\n",
       "    }\n",
       "\n",
       "    .dataframe thead th {\n",
       "        text-align: right;\n",
       "    }\n",
       "</style>\n",
       "<table border=\"1\" class=\"dataframe\">\n",
       "  <thead>\n",
       "    <tr style=\"text-align: right;\">\n",
       "      <th>AA</th>\n",
       "      <th>A</th>\n",
       "      <th>C</th>\n",
       "      <th>D</th>\n",
       "      <th>E</th>\n",
       "      <th>F</th>\n",
       "      <th>G</th>\n",
       "      <th>H</th>\n",
       "      <th>I</th>\n",
       "      <th>K</th>\n",
       "      <th>L</th>\n",
       "      <th>M</th>\n",
       "      <th>N</th>\n",
       "      <th>P</th>\n",
       "      <th>Q</th>\n",
       "      <th>R</th>\n",
       "      <th>S</th>\n",
       "      <th>T</th>\n",
       "      <th>V</th>\n",
       "      <th>W</th>\n",
       "      <th>Y</th>\n",
       "    </tr>\n",
       "    <tr>\n",
       "      <th>Gene</th>\n",
       "      <th></th>\n",
       "      <th></th>\n",
       "      <th></th>\n",
       "      <th></th>\n",
       "      <th></th>\n",
       "      <th></th>\n",
       "      <th></th>\n",
       "      <th></th>\n",
       "      <th></th>\n",
       "      <th></th>\n",
       "      <th></th>\n",
       "      <th></th>\n",
       "      <th></th>\n",
       "      <th></th>\n",
       "      <th></th>\n",
       "      <th></th>\n",
       "      <th></th>\n",
       "      <th></th>\n",
       "      <th></th>\n",
       "      <th></th>\n",
       "    </tr>\n",
       "  </thead>\n",
       "  <tbody>\n",
       "    <tr>\n",
       "      <th>Gene 1</th>\n",
       "      <td>0.053437</td>\n",
       "      <td>0.030040</td>\n",
       "      <td>0.036395</td>\n",
       "      <td>0.041883</td>\n",
       "      <td>0.042605</td>\n",
       "      <td>0.045494</td>\n",
       "      <td>0.026719</td>\n",
       "      <td>0.061236</td>\n",
       "      <td>0.059792</td>\n",
       "      <td>0.136337</td>\n",
       "      <td>0.038417</td>\n",
       "      <td>0.049105</td>\n",
       "      <td>0.030907</td>\n",
       "      <td>0.038273</td>\n",
       "      <td>0.029752</td>\n",
       "      <td>0.067158</td>\n",
       "      <td>0.074235</td>\n",
       "      <td>0.086655</td>\n",
       "      <td>0.009821</td>\n",
       "      <td>0.041739</td>\n",
       "    </tr>\n",
       "    <tr>\n",
       "      <th>Gene 10</th>\n",
       "      <td>0.088305</td>\n",
       "      <td>0.000000</td>\n",
       "      <td>0.057279</td>\n",
       "      <td>0.028640</td>\n",
       "      <td>0.031026</td>\n",
       "      <td>0.102625</td>\n",
       "      <td>0.009547</td>\n",
       "      <td>0.033413</td>\n",
       "      <td>0.073986</td>\n",
       "      <td>0.064439</td>\n",
       "      <td>0.016706</td>\n",
       "      <td>0.052506</td>\n",
       "      <td>0.066826</td>\n",
       "      <td>0.083532</td>\n",
       "      <td>0.069212</td>\n",
       "      <td>0.088305</td>\n",
       "      <td>0.076372</td>\n",
       "      <td>0.019093</td>\n",
       "      <td>0.011933</td>\n",
       "      <td>0.026253</td>\n",
       "    </tr>\n",
       "    <tr>\n",
       "      <th>Gene 11</th>\n",
       "      <td>0.052632</td>\n",
       "      <td>0.026316</td>\n",
       "      <td>0.026316</td>\n",
       "      <td>0.000000</td>\n",
       "      <td>0.105263</td>\n",
       "      <td>0.026316</td>\n",
       "      <td>0.000000</td>\n",
       "      <td>0.078947</td>\n",
       "      <td>0.000000</td>\n",
       "      <td>0.105263</td>\n",
       "      <td>0.052632</td>\n",
       "      <td>0.131579</td>\n",
       "      <td>0.026316</td>\n",
       "      <td>0.026316</td>\n",
       "      <td>0.052632</td>\n",
       "      <td>0.052632</td>\n",
       "      <td>0.052632</td>\n",
       "      <td>0.105263</td>\n",
       "      <td>0.000000</td>\n",
       "      <td>0.078947</td>\n",
       "    </tr>\n",
       "    <tr>\n",
       "      <th>Gene 2</th>\n",
       "      <td>0.062058</td>\n",
       "      <td>0.031422</td>\n",
       "      <td>0.048704</td>\n",
       "      <td>0.037706</td>\n",
       "      <td>0.060487</td>\n",
       "      <td>0.064415</td>\n",
       "      <td>0.013354</td>\n",
       "      <td>0.059701</td>\n",
       "      <td>0.047918</td>\n",
       "      <td>0.084839</td>\n",
       "      <td>0.010998</td>\n",
       "      <td>0.069128</td>\n",
       "      <td>0.045562</td>\n",
       "      <td>0.048704</td>\n",
       "      <td>0.032993</td>\n",
       "      <td>0.077769</td>\n",
       "      <td>0.076198</td>\n",
       "      <td>0.076198</td>\n",
       "      <td>0.009427</td>\n",
       "      <td>0.042419</td>\n",
       "    </tr>\n",
       "    <tr>\n",
       "      <th>Gene 3</th>\n",
       "      <td>0.047273</td>\n",
       "      <td>0.025455</td>\n",
       "      <td>0.047273</td>\n",
       "      <td>0.040000</td>\n",
       "      <td>0.050909</td>\n",
       "      <td>0.050909</td>\n",
       "      <td>0.029091</td>\n",
       "      <td>0.076364</td>\n",
       "      <td>0.040000</td>\n",
       "      <td>0.109091</td>\n",
       "      <td>0.014545</td>\n",
       "      <td>0.029091</td>\n",
       "      <td>0.043636</td>\n",
       "      <td>0.032727</td>\n",
       "      <td>0.021818</td>\n",
       "      <td>0.080000</td>\n",
       "      <td>0.087273</td>\n",
       "      <td>0.090909</td>\n",
       "      <td>0.021818</td>\n",
       "      <td>0.061818</td>\n",
       "    </tr>\n",
       "    <tr>\n",
       "      <th>Gene 4</th>\n",
       "      <td>0.053333</td>\n",
       "      <td>0.040000</td>\n",
       "      <td>0.013333</td>\n",
       "      <td>0.026667</td>\n",
       "      <td>0.066667</td>\n",
       "      <td>0.013333</td>\n",
       "      <td>0.000000</td>\n",
       "      <td>0.040000</td>\n",
       "      <td>0.026667</td>\n",
       "      <td>0.186667</td>\n",
       "      <td>0.013333</td>\n",
       "      <td>0.066667</td>\n",
       "      <td>0.026667</td>\n",
       "      <td>0.000000</td>\n",
       "      <td>0.040000</td>\n",
       "      <td>0.106667</td>\n",
       "      <td>0.053333</td>\n",
       "      <td>0.173333</td>\n",
       "      <td>0.000000</td>\n",
       "      <td>0.053333</td>\n",
       "    </tr>\n",
       "    <tr>\n",
       "      <th>Gene 5</th>\n",
       "      <td>0.085586</td>\n",
       "      <td>0.018018</td>\n",
       "      <td>0.027027</td>\n",
       "      <td>0.031532</td>\n",
       "      <td>0.049550</td>\n",
       "      <td>0.063063</td>\n",
       "      <td>0.022523</td>\n",
       "      <td>0.090090</td>\n",
       "      <td>0.031532</td>\n",
       "      <td>0.157658</td>\n",
       "      <td>0.018018</td>\n",
       "      <td>0.049550</td>\n",
       "      <td>0.022523</td>\n",
       "      <td>0.018018</td>\n",
       "      <td>0.063063</td>\n",
       "      <td>0.067568</td>\n",
       "      <td>0.058559</td>\n",
       "      <td>0.054054</td>\n",
       "      <td>0.031532</td>\n",
       "      <td>0.040541</td>\n",
       "    </tr>\n",
       "    <tr>\n",
       "      <th>Gene 6</th>\n",
       "      <td>0.016393</td>\n",
       "      <td>0.000000</td>\n",
       "      <td>0.065574</td>\n",
       "      <td>0.081967</td>\n",
       "      <td>0.049180</td>\n",
       "      <td>0.000000</td>\n",
       "      <td>0.016393</td>\n",
       "      <td>0.163934</td>\n",
       "      <td>0.065574</td>\n",
       "      <td>0.131148</td>\n",
       "      <td>0.049180</td>\n",
       "      <td>0.065574</td>\n",
       "      <td>0.016393</td>\n",
       "      <td>0.049180</td>\n",
       "      <td>0.016393</td>\n",
       "      <td>0.065574</td>\n",
       "      <td>0.049180</td>\n",
       "      <td>0.049180</td>\n",
       "      <td>0.016393</td>\n",
       "      <td>0.032787</td>\n",
       "    </tr>\n",
       "    <tr>\n",
       "      <th>Gene 7</th>\n",
       "      <td>0.074380</td>\n",
       "      <td>0.049587</td>\n",
       "      <td>0.016529</td>\n",
       "      <td>0.066116</td>\n",
       "      <td>0.082645</td>\n",
       "      <td>0.033058</td>\n",
       "      <td>0.024793</td>\n",
       "      <td>0.066116</td>\n",
       "      <td>0.057851</td>\n",
       "      <td>0.123967</td>\n",
       "      <td>0.008264</td>\n",
       "      <td>0.016529</td>\n",
       "      <td>0.049587</td>\n",
       "      <td>0.041322</td>\n",
       "      <td>0.041322</td>\n",
       "      <td>0.057851</td>\n",
       "      <td>0.082645</td>\n",
       "      <td>0.066116</td>\n",
       "      <td>0.000000</td>\n",
       "      <td>0.041322</td>\n",
       "    </tr>\n",
       "    <tr>\n",
       "      <th>Gene 8</th>\n",
       "      <td>0.046512</td>\n",
       "      <td>0.046512</td>\n",
       "      <td>0.046512</td>\n",
       "      <td>0.069767</td>\n",
       "      <td>0.139535</td>\n",
       "      <td>0.000000</td>\n",
       "      <td>0.046512</td>\n",
       "      <td>0.116279</td>\n",
       "      <td>0.000000</td>\n",
       "      <td>0.255814</td>\n",
       "      <td>0.046512</td>\n",
       "      <td>0.023256</td>\n",
       "      <td>0.000000</td>\n",
       "      <td>0.023256</td>\n",
       "      <td>0.000000</td>\n",
       "      <td>0.046512</td>\n",
       "      <td>0.023256</td>\n",
       "      <td>0.023256</td>\n",
       "      <td>0.023256</td>\n",
       "      <td>0.023256</td>\n",
       "    </tr>\n",
       "    <tr>\n",
       "      <th>Gene 9</th>\n",
       "      <td>0.041322</td>\n",
       "      <td>0.057851</td>\n",
       "      <td>0.057851</td>\n",
       "      <td>0.049587</td>\n",
       "      <td>0.066116</td>\n",
       "      <td>0.041322</td>\n",
       "      <td>0.033058</td>\n",
       "      <td>0.082645</td>\n",
       "      <td>0.041322</td>\n",
       "      <td>0.082645</td>\n",
       "      <td>0.008264</td>\n",
       "      <td>0.016529</td>\n",
       "      <td>0.057851</td>\n",
       "      <td>0.049587</td>\n",
       "      <td>0.033058</td>\n",
       "      <td>0.074380</td>\n",
       "      <td>0.041322</td>\n",
       "      <td>0.099174</td>\n",
       "      <td>0.008264</td>\n",
       "      <td>0.057851</td>\n",
       "    </tr>\n",
       "  </tbody>\n",
       "</table>\n",
       "</div>"
      ],
      "text/plain": [
       "AA              A         C         D         E         F         G         H  \\\n",
       "Gene                                                                            \n",
       "Gene 1   0.053437  0.030040  0.036395  0.041883  0.042605  0.045494  0.026719   \n",
       "Gene 10  0.088305  0.000000  0.057279  0.028640  0.031026  0.102625  0.009547   \n",
       "Gene 11  0.052632  0.026316  0.026316  0.000000  0.105263  0.026316  0.000000   \n",
       "Gene 2   0.062058  0.031422  0.048704  0.037706  0.060487  0.064415  0.013354   \n",
       "Gene 3   0.047273  0.025455  0.047273  0.040000  0.050909  0.050909  0.029091   \n",
       "Gene 4   0.053333  0.040000  0.013333  0.026667  0.066667  0.013333  0.000000   \n",
       "Gene 5   0.085586  0.018018  0.027027  0.031532  0.049550  0.063063  0.022523   \n",
       "Gene 6   0.016393  0.000000  0.065574  0.081967  0.049180  0.000000  0.016393   \n",
       "Gene 7   0.074380  0.049587  0.016529  0.066116  0.082645  0.033058  0.024793   \n",
       "Gene 8   0.046512  0.046512  0.046512  0.069767  0.139535  0.000000  0.046512   \n",
       "Gene 9   0.041322  0.057851  0.057851  0.049587  0.066116  0.041322  0.033058   \n",
       "\n",
       "AA              I         K         L         M         N         P         Q  \\\n",
       "Gene                                                                            \n",
       "Gene 1   0.061236  0.059792  0.136337  0.038417  0.049105  0.030907  0.038273   \n",
       "Gene 10  0.033413  0.073986  0.064439  0.016706  0.052506  0.066826  0.083532   \n",
       "Gene 11  0.078947  0.000000  0.105263  0.052632  0.131579  0.026316  0.026316   \n",
       "Gene 2   0.059701  0.047918  0.084839  0.010998  0.069128  0.045562  0.048704   \n",
       "Gene 3   0.076364  0.040000  0.109091  0.014545  0.029091  0.043636  0.032727   \n",
       "Gene 4   0.040000  0.026667  0.186667  0.013333  0.066667  0.026667  0.000000   \n",
       "Gene 5   0.090090  0.031532  0.157658  0.018018  0.049550  0.022523  0.018018   \n",
       "Gene 6   0.163934  0.065574  0.131148  0.049180  0.065574  0.016393  0.049180   \n",
       "Gene 7   0.066116  0.057851  0.123967  0.008264  0.016529  0.049587  0.041322   \n",
       "Gene 8   0.116279  0.000000  0.255814  0.046512  0.023256  0.000000  0.023256   \n",
       "Gene 9   0.082645  0.041322  0.082645  0.008264  0.016529  0.057851  0.049587   \n",
       "\n",
       "AA              R         S         T         V         W         Y  \n",
       "Gene                                                                 \n",
       "Gene 1   0.029752  0.067158  0.074235  0.086655  0.009821  0.041739  \n",
       "Gene 10  0.069212  0.088305  0.076372  0.019093  0.011933  0.026253  \n",
       "Gene 11  0.052632  0.052632  0.052632  0.105263  0.000000  0.078947  \n",
       "Gene 2   0.032993  0.077769  0.076198  0.076198  0.009427  0.042419  \n",
       "Gene 3   0.021818  0.080000  0.087273  0.090909  0.021818  0.061818  \n",
       "Gene 4   0.040000  0.106667  0.053333  0.173333  0.000000  0.053333  \n",
       "Gene 5   0.063063  0.067568  0.058559  0.054054  0.031532  0.040541  \n",
       "Gene 6   0.016393  0.065574  0.049180  0.049180  0.016393  0.032787  \n",
       "Gene 7   0.041322  0.057851  0.082645  0.066116  0.000000  0.041322  \n",
       "Gene 8   0.000000  0.046512  0.023256  0.023256  0.023256  0.023256  \n",
       "Gene 9   0.033058  0.074380  0.041322  0.099174  0.008264  0.057851  "
      ]
     },
     "execution_count": 42,
     "metadata": {},
     "output_type": "execute_result"
    }
   ],
   "source": [
    "grouped_longform"
   ]
  },
  {
   "cell_type": "code",
   "execution_count": null,
   "metadata": {},
   "outputs": [],
   "source": []
  }
 ],
 "metadata": {
  "kernelspec": {
   "display_name": "Python 3 (ipykernel)",
   "language": "python",
   "name": "python3"
  },
  "language_info": {
   "codemirror_mode": {
    "name": "ipython",
    "version": 3
   },
   "file_extension": ".py",
   "mimetype": "text/x-python",
   "name": "python",
   "nbconvert_exporter": "python",
   "pygments_lexer": "ipython3",
   "version": "3.9.7"
  }
 },
 "nbformat": 4,
 "nbformat_minor": 4
}
