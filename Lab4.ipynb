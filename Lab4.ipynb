{
 "cells": [
  {
   "cell_type": "markdown",
   "metadata": {},
   "source": [
    "# Overview and references\n",
    "\n",
    "You will use the provided sequencing reads from a Ribo-seq experiment in Saccharomyces cerevisiae to generate a plot that shows the density of ribosomes along an mRNA sequence. You will perform the following steps\n",
    "\n",
    "1. Filter the reads for ncRNA and rRNA sequences \n",
    "2. Use bowtie2 for the alignments \n",
    "3. Use Python to analyze the SAM file\n",
    "4. Use Python to plot the results.\n",
    "\n",
    "\n",
    "You are expected to keep a thorough record of everything you did in your notebook.\n",
    "\n",
    "\n",
    "Data from [Weinberg et al (2016)](https://pubmed.ncbi.nlm.nih.gov/26876183/). Workflow courtesy of Lareau lab.\n",
    "\n",
    "The repo contains three bowtie2 indexes: ScerRRNA (rRNA), rna_coding (ncRNA), and scer_transcriptome (the yeast transcriptome). We will use these indexes to align our reads using Bowtie2.\n",
    "\n",
    "\n",
    "## Submission checklist\n",
    "\n",
    "1. Edit this file, add, commit, and push the changes to GitHub.\n",
    "\n",
    "## Installation"
   ]
  },
  {
   "cell_type": "code",
   "execution_count": 1,
   "metadata": {},
   "outputs": [],
   "source": [
    "%%capture\n",
    "!yes | conda install -c bioconda bowtie2\n",
    "!pip install pyyaml\n",
    "import matplotlib.pyplot as plt\n",
    "import math\n",
    "import pandas as pd\n",
    "import numpy as np\n",
    "import matplotlib.pyplot as plt"
   ]
  },
  {
   "cell_type": "markdown",
   "metadata": {},
   "source": [
    "# Background\n",
    "\n",
    "In this lab, we will use data from a Ribo-seq experiment. In Ribo-seq, each sequencing read represents the position of a ribosome on an mRNA transcript, and allows us to quantify things like ribosome density or translation speed. The details of how the procedure works can be found here (https://www.nature.com/articles/nrg3645), but are not too important for this lab. When we get Ribo-seq reads, there is often contamination from other types of RNA in our sequencing data, like ribosomal RNA (rRNA) or non-coding RNAs (ncRNA), which we want to filter out first. Conveniently, we have a list of rRNA and ncRNA sequences that we can align the reads to, and filter out any unwanted reads. Next, we can align the remaining reads to the yeast transcriptome, and find the position of each ribosome alongall the mRNAs. Let’s start by filtering out unwanted RNA sequences.\n",
    "\n",
    "# 1. Filter out unwanted RNA reads\n",
    "\n",
    "You’re going to want to map these reads to the rRNA and ncRNA indexes first. To do this, check out the sample bowtie2 command from the introduction.\n",
    "\n",
    "Remember, our reads are unpaired so you should use the `-U` argument."
   ]
  },
  {
   "cell_type": "markdown",
   "metadata": {},
   "source": [
    "## 1.1 rRNA\n",
    "\n",
    "1. What arguments should we use for Bowtie2? \n",
    "2. What will you use for the index name?\n",
    "3. What will you use for the input reads?\n",
    "4. If you use the --un unaligned.fastq option, what will unaligned.fastq contain?\n",
    "5. Do we keep the reads that align or don’t align?"
   ]
  },
  {
   "cell_type": "markdown",
   "metadata": {},
   "source": [
    "### 1.1 Answer\n",
    "\n",
    "1. We will provide Bowtie2 with an index name, input reads, an output filename, an unaligned reads filename, and a number of cores to use. See answers and notes below for the values passed.\n",
    "2. ScerRRNA/ScerRRNA, as this is our rRNA index\n",
    "3. riboseq_reads.fq\n",
    "4. The original reads, excluding those that are rRNA\n",
    "5. We keep the reads that don't align, as we're looking to filter *out* rRNA, which is what we're aligning to in our index.\n",
    "\n",
    "Notes: The output file, \"output.sam,\" is irrelevant as we will discard these rRNA alignments. The unaligned reads file, \"riboseq_reads_rrna_unaligned.fastq,\" will continue to the next step."
   ]
  },
  {
   "cell_type": "code",
   "execution_count": 2,
   "metadata": {},
   "outputs": [
    {
     "name": "stdout",
     "output_type": "stream",
     "text": [
      "702642 reads; of these:\r\n",
      "  702642 (100.00%) were unpaired; of these:\r\n",
      "    619064 (88.11%) aligned 0 times\r\n",
      "    83578 (11.89%) aligned exactly 1 time\r\n",
      "    0 (0.00%) aligned >1 times\r\n",
      "11.89% overall alignment rate\r\n"
     ]
    }
   ],
   "source": [
    "! bowtie2 -x ScerRRNA/ScerRRNA -U riboseq_reads.fq -S output.sam --un riboseq_reads_rrna_unaligned.fastq -p 4"
   ]
  },
  {
   "cell_type": "markdown",
   "metadata": {},
   "source": [
    "## 1.2 ncRNA\n",
    "\n",
    "1. What arguments should we use for Bowtie2? \n",
    "2. What will you use for the index name?\n",
    "3. What will you use for the input reads?\n",
    "4. If you use the --un unaligned.fastq option, what will unaligned.fastq contain?\n",
    "5. Do we keep the reads that align or don’t align?"
   ]
  },
  {
   "cell_type": "markdown",
   "metadata": {},
   "source": [
    "### 1.2 Answer\n",
    "\n",
    "1. We will provide Bowtie2 with an index name, input reads, an output file, an unaligned reads file, and a number of cores to use. See answers and notes below for the values passed.\n",
    "2. rna_coding/rna_coding, as this is our ncRNA index\n",
    "3. riboseq_reads_rrna_unaligned.fastq, as this is the output after filtering out the rRNA\n",
    "4. The original reads, excluding those that are rRNA *OR* ncRNA \n",
    "5. We keep the reads that don't align, as we're looking to filter *out* ncRNA\n",
    "\n",
    "Notes: The output file, \"output_2.sam,\" is irrelevant as we will discard these alignments. The unaligned reads file, \"riboseq_reads_rrna_ncrna_unaligned.fastq,\" is our final output from step one, with rRNA and ncRNA reads removed."
   ]
  },
  {
   "cell_type": "code",
   "execution_count": 3,
   "metadata": {},
   "outputs": [
    {
     "name": "stdout",
     "output_type": "stream",
     "text": [
      "619064 reads; of these:\r\n",
      "  619064 (100.00%) were unpaired; of these:\r\n",
      "    617213 (99.70%) aligned 0 times\r\n",
      "    70 (0.01%) aligned exactly 1 time\r\n",
      "    1781 (0.29%) aligned >1 times\r\n",
      "0.30% overall alignment rate\r\n"
     ]
    }
   ],
   "source": [
    "! bowtie2 -x rna_coding/rna_coding -U riboseq_reads_rrna_unaligned.fastq -S output_2.sam --un riboseq_reads_rrna_ncrna_unaligned.fastq -p 4"
   ]
  },
  {
   "cell_type": "markdown",
   "metadata": {},
   "source": [
    "## 1.3\n",
    "\n",
    "What percentage of your sequencing library were rRNA reads? What percentage were from ncRNA?"
   ]
  },
  {
   "cell_type": "markdown",
   "metadata": {},
   "source": [
    "### 1.3 Answer\n",
    "\n",
    "There were 702642 reads initially, with 83578 (11.89%) being rRNA reads and 1851 (0.26%) being ncRNA reads. "
   ]
  },
  {
   "cell_type": "markdown",
   "metadata": {},
   "source": [
    "# 2. Align the reads to the S. cerevisiae transcriptome\n",
    "\n",
    "Now, let’s map the remaining reads to the transcriptome to find out where ribosomes are actively translating. Run bowtie2 again, using the filtered reads you obtained in the previous step as input and the yeasttranscriptome as the index."
   ]
  },
  {
   "cell_type": "markdown",
   "metadata": {},
   "source": [
    "## 2.1\n",
    "\n",
    "1. What arguments should we use for Bowtie2? \n",
    "2. What will you use for the index name? \n",
    "3. What will you use for the input reads?\n",
    "4. What do these reads represent in a Ribo-seq experiment?\n",
    "5. If you use the `--un unaligned.fastq` option, what will `unaligned.fastq` contain?\n",
    "6. What percentage of your filtered library didn’t align to the reference genome? If you use `--very-sensitive` instead of `--very-fast`, does this percentage increase or decrease?"
   ]
  },
  {
   "cell_type": "markdown",
   "metadata": {},
   "source": [
    "### 2.1 Answer\n",
    "\n",
    "1. We will provide Bowtie2 with a speed/sensitivity tradeoff setting, an index name, input reads, an output file, an unaligned reads file, and a number of cores to use. See answers and notes below for the values passed.\n",
    "2. scer_transcriptome/scer.transcripts.13cds10, as we are looking at the transcriptome in this case\n",
    "3. riboseq_reads_rrna_ncrna_unaligned.fastq - the unaligned reads from part 1.2 \n",
    "4. The original reads with rRNA and ncRNA filtered out\n",
    "5. Pieces of the yeast transcriptome that are not being actively translated\n",
    "6. With the --very-fast paramater, 5.89% of reads are unaligned. When using --very-sensitive, this number *decreases* to 5.51%. Note that I continued with the data from --very-sensitive for maximum precision. \n",
    "\n",
    "Notes: The output file, \"yeast_translatome.sam,\" is what will be used for the rest of the lab. The unaligned reads file, \"yeast_inactive_mrna.fastq,\" is no longer relevant for our analysis."
   ]
  },
  {
   "cell_type": "code",
   "execution_count": 4,
   "metadata": {},
   "outputs": [
    {
     "name": "stdout",
     "output_type": "stream",
     "text": [
      "617213 reads; of these:\r\n",
      "  617213 (100.00%) were unpaired; of these:\r\n",
      "    34012 (5.51%) aligned 0 times\r\n",
      "    436340 (70.70%) aligned exactly 1 time\r\n",
      "    146861 (23.79%) aligned >1 times\r\n",
      "94.49% overall alignment rate\r\n"
     ]
    }
   ],
   "source": [
    "! bowtie2 --very-sensitive -x scer_transcriptome/scer.transcripts.13cds10 -U riboseq_reads_rrna_ncrna_unaligned.fastq -S yeast_translatome.sam --un yeast_inactive_mrna.fastq -p 4"
   ]
  },
  {
   "cell_type": "markdown",
   "metadata": {},
   "source": [
    "# 3. Generate a coverage plot\n",
    "\n",
    "At this point, you should have a SAM file containing the alignment of your filtered reads to the S. cerevisiae transcriptome. In Ribo-seq experiments, the reads represent the mRNA sequence covered by the ribosome, but we want to know which position the ribosome was translating. To do this, we apply an offset that converts the aligned position of the read into the position of the A-site of the ribosome (we won’t get into the details of how this works, but have provided a helper function that does this for you). \n",
    "\n",
    "Use the starter code provided to \n",
    "\n",
    "1. Build a list for each gene that represents the number of ribosomes present at each position in the transcript. Thus, position `i` in the list will contain the number of ribosomes present for the gene of interest.\n",
    "2. Build a dictionary of gene -> list of ribosome counts at each position in the gene. Each key will be a gene and each value will be the list from step 1."
   ]
  },
  {
   "cell_type": "code",
   "execution_count": 5,
   "metadata": {},
   "outputs": [],
   "source": [
    "import yaml\n",
    "\n",
    "# cds_dict is a dictionary of gene_name -> length of transcript\n",
    "with open('scer_transcriptome/scer.transcripts.13cds10.lengths.txt','r') as flength:\n",
    "        cds_dict = {}\n",
    "        for line in flength.readlines():\n",
    "            line = line.strip().split()\n",
    "            cds_dict[line[0]] = int(line[2])\n",
    "\n",
    "def get_gene_coverage(sam):\n",
    "    \"\"\"\n",
    "    Parses a sam file with riboseq reads. \n",
    "    \n",
    "    Assigns A-site offsets (an offset from the start of the riboseq read to the A site position)\n",
    "    Code adapted from https://github.com/lareaulab/iXnos\n",
    "    \n",
    "    Arguments:\n",
    "        sam -- path to the sam file containing riboseq reads aligned to transcriptome\n",
    "    Returns:\n",
    "        Iterator over reads in format (gene, read_sequence, position_in_transcript)\n",
    "    \"\"\"\n",
    "    # loads offset values\n",
    "    shift_dict = yaml.safe_load(open('ref_asite_offset.yaml','r'))\n",
    "    #opens sam file for parsing\n",
    "    in_sam = open(sam, \"r\")\n",
    "    for line in in_sam:\n",
    "        \n",
    "        if line[0] == \"@\":                          #ignores comments in sam file\n",
    "            continue\n",
    "        line = line.strip().split()\n",
    "        read = line[9]                              #parses read sequence\n",
    "        \n",
    "        if len(read) < 27 or len(read) > 31:        #only consider reads within 27-31 nt\n",
    "            continue\n",
    "        gene = line[2]                              #parses read sequence\n",
    "        \n",
    "        if gene == '*':\n",
    "            continue\n",
    "        utr5_len = 13                               #determines offset value\n",
    "        map_nt = int(line[3]) - 1 - utr5_len\n",
    "        frame = map_nt % 3\n",
    "        shift = shift_dict[len(read)][frame]\n",
    "        \n",
    "        if not shift:\n",
    "            continue\n",
    "        map_nt += shift                             #converts the alignment position to position in transcript\n",
    "        \n",
    "        if map_nt >= 0 and map_nt < cds_dict[gene]:\n",
    "            yield (gene, read, map_nt)              #if data is valid, iterator outputs read\n",
    "    in_sam.close()"
   ]
  },
  {
   "cell_type": "code",
   "execution_count": 6,
   "metadata": {},
   "outputs": [],
   "source": [
    "gene_coverage_iterator = get_gene_coverage('yeast_translatome.sam')\n",
    "\n",
    "#Did both questions one and two in one step for simplicity\n",
    "gene_coverage_dict = {}\n",
    "for read in gene_coverage_iterator:\n",
    "    gene = read[0]\n",
    "    position = read[2]\n",
    "    if gene not in gene_coverage_dict:\n",
    "        gene_coverage_dict[gene] = []\n",
    "    if position > len(gene_coverage_dict[gene]):\n",
    "        gene_coverage_dict[gene] = gene_coverage_dict[gene] + [0 for i in range(position - len(gene_coverage_dict[gene]) + 1)]\n",
    "    gene_coverage_dict[gene][position] += 1"
   ]
  },
  {
   "cell_type": "markdown",
   "metadata": {},
   "source": [
    "## 3.1\n",
    "\n",
    "1. What gene has the most ribosomes? \n",
    "2. Are there any genes with zero ribosomes? \n",
    "3. What is the average number of ribosomes per gene across the transcriptome?"
   ]
  },
  {
   "cell_type": "code",
   "execution_count": 7,
   "metadata": {},
   "outputs": [
    {
     "name": "stdout",
     "output_type": "stream",
     "text": [
      "YLR044C 16627\n",
      "YDR459C 1\n",
      "108.3266879819447\n"
     ]
    }
   ],
   "source": [
    "num_ribosomes = {}\n",
    "for gene in gene_coverage_dict:\n",
    "    num_ribosomes[gene] = sum(gene_coverage_dict[gene])\n",
    "\n",
    "#Question 1\n",
    "max_num_ribosomes = max(num_ribosomes, key=num_ribosomes.get)\n",
    "print(max_num_ribosomes, num_ribosomes[max_num_ribosomes])\n",
    "\n",
    "#Questions 2\n",
    "min_num_ribosomes = min(num_ribosomes, key=num_ribosomes.get)\n",
    "print(min_num_ribosomes, num_ribosomes[min_num_ribosomes])\n",
    "\n",
    "#Question 3\n",
    "avg_num_ribosomes = sum(num_ribosomes.values()) / len(num_ribosomes)\n",
    "print(avg_num_ribosomes)"
   ]
  },
  {
   "cell_type": "markdown",
   "metadata": {},
   "source": [
    "### 3.1 Answer\n",
    "\n",
    "1. Gene YLR044C has the most ribosomes, with 16627\n",
    "2. There are no genes with 0 ribosomes, the minimum is 1. This is to be expected, as we've filtered out inactive pieces of the transcriptome.\n",
    "3. The average number of ribosomes per gene is 108.3"
   ]
  },
  {
   "cell_type": "markdown",
   "metadata": {},
   "source": [
    "## 3.2\n",
    "\n",
    "Now we want to visualize the density of ribosomes. To do this, we will visualize the aggregate number of ribosomes at each position relative to the start codon across the transcriptome.  To do this, we will build a new array which is as large as the longest transcript. In each position `i` in the array, we will store the sum of ribosome counts at position `i` for all the genes in the transcriptome. \n",
    "\n",
    "Note: it would be difficult to visualize the density of ribosomes for every transcript, so this way we can visualize the trend across the transcriptome in a single plot.\n",
    "\n",
    "Once you generate this array, use matplotlib (or seaborn or pandas) to generate a bar plot where the x-axis is position and the y-axis is number of ribosomes. To visualize the trends better, just plot the first 500nt positions. Also, make a bar plot of just the first 100 nucleotides."
   ]
  },
  {
   "cell_type": "code",
   "execution_count": 8,
   "metadata": {},
   "outputs": [],
   "source": [
    "gene_length = {}\n",
    "for gene in gene_coverage_dict:\n",
    "    gene_length[gene] = len(gene_coverage_dict[gene])\n",
    "max_length = max(gene_length.values())\n",
    "\n",
    "aggregate_ribosome_counts = [0 for i in range(max_length)]\n",
    "for gene in gene_coverage_dict:\n",
    "    ribosome_counts = gene_coverage_dict[gene]\n",
    "    for i in range(len(ribosome_counts)):\n",
    "        aggregate_ribosome_counts[i] += ribosome_counts[i]"
   ]
  },
  {
   "cell_type": "code",
   "execution_count": 9,
   "metadata": {
    "scrolled": false
   },
   "outputs": [
    {
     "data": {
      "image/png": "[encoded data removed]",
      "text/plain": [
       "<Figure size 432x288 with 1 Axes>"
      ]
     },
     "metadata": {
      "needs_background": "light"
     },
     "output_type": "display_data"
    }
   ],
   "source": [
    "nt500 = aggregate_ribosome_counts[0:500]\n",
    "fig = plt.figure()\n",
    "ax = fig.add_axes([0,0,1,1])\n",
    "ax.bar([i for i in range(len(nt500))],nt500)\n",
    "ax.set_title(\"Ribosomes per Nucleotide (First 500 nts)\")\n",
    "ax.set_xlabel(\"Nucleotide Position\")\n",
    "ax.set_ylabel(\"Ribosome Count\")\n",
    "plt.show()"
   ]
  },
  {
   "cell_type": "code",
   "execution_count": 10,
   "metadata": {},
   "outputs": [
    {
     "data": {
      "image/png": "[encoded data removed]",
      "text/plain": [
       "<Figure size 432x288 with 1 Axes>"
      ]
     },
     "metadata": {
      "needs_background": "light"
     },
     "output_type": "display_data"
    }
   ],
   "source": [
    "nt100 = aggregate_ribosome_counts[0:100]\n",
    "fig = plt.figure()\n",
    "ax = fig.add_axes([0,0,1,1])\n",
    "ax.bar([i for i in range(len(nt100))],nt100)\n",
    "ax.set_title(\"Ribosomes per Nucleotide (First 100 nts)\")\n",
    "ax.set_xlabel(\"Nucleotide Position\")\n",
    "ax.set_ylabel(\"Ribosome Count\")\n",
    "plt.show()"
   ]
  },
  {
   "cell_type": "markdown",
   "metadata": {},
   "source": [
    "## 3.3\n",
    "\n",
    "Lastly, create a histogram of the number of ribosomes in each gene, as well as a histogram for the density of ribosomes for each gene (the density is the #ribosomes/length). Make sure to log transform the ribosome counts and densities before plotting the histogram."
   ]
  },
  {
   "cell_type": "markdown",
   "metadata": {},
   "source": [
    "### Ribosomes per Gene"
   ]
  },
  {
   "cell_type": "code",
   "execution_count": 11,
   "metadata": {},
   "outputs": [
    {
     "data": {
      "image/png": "[encoded data removed]",
      "text/plain": [
       "<Figure size 432x288 with 1 Axes>"
      ]
     },
     "metadata": {
      "needs_background": "light"
     },
     "output_type": "display_data"
    }
   ],
   "source": [
    "num_ribosomes_list = list(num_ribosomes.values())\n",
    "log_ribosome_counts = num_ribosomes_list.copy()\n",
    "for i in range(len(num_ribosomes.values())):\n",
    "    if num_ribosomes_list[i] == 0: \n",
    "        log_ribosome_counts[i] = 0\n",
    "    else:\n",
    "        log_ribosome_counts[i] = math.log(num_ribosomes_list[i])\n",
    "    \n",
    "plt.hist(log_ribosome_counts, 25)\n",
    "plt.xlabel(\"Log Ribosome Count\")\n",
    "plt.ylabel(\"Number of Genes\")\n",
    "plt.title(\"Number of Ribosomes per Gene\")\n",
    "plt.show()"
   ]
  },
  {
   "cell_type": "markdown",
   "metadata": {},
   "source": [
    "#### Densities by Gene"
   ]
  },
  {
   "cell_type": "code",
   "execution_count": 12,
   "metadata": {},
   "outputs": [
    {
     "data": {
      "image/png": "[encoded data removed]",
      "text/plain": [
       "<Figure size 432x288 with 1 Axes>"
      ]
     },
     "metadata": {
      "needs_background": "light"
     },
     "output_type": "display_data"
    }
   ],
   "source": [
    "ribosomes_density = {}\n",
    "for gene in gene_coverage_dict:\n",
    "    ribosomes_density[gene] = sum(gene_coverage_dict[gene]) / len(gene_coverage_dict[gene])\n",
    "densities_list = list(ribosomes_density.values())\n",
    "\n",
    "densities_list = list(ribosomes_density.values())\n",
    "log_densities = densities_list.copy()\n",
    "for i in range(len(densities_list)):\n",
    "    if densities_list[i] == 0: \n",
    "        log_densities[i] = 0\n",
    "    else:\n",
    "        log_densities[i] = math.log(densities_list[i])\n",
    "    \n",
    "plt.hist(log_densities, 50)\n",
    "plt.xlabel(\"Log Ribosome Density\")\n",
    "plt.ylabel(\"Number of Genes\")\n",
    "plt.title(\"Ribosome Density Frequencies\")\n",
    "plt.show()"
   ]
  },
  {
   "cell_type": "markdown",
   "metadata": {},
   "source": [
    "## 3.4\n",
    "\n",
    "Do you notice any patterns in the number of ribosomes and ribosome position along the sequence? What might this represent biologically?"
   ]
  },
  {
   "cell_type": "markdown",
   "metadata": {},
   "source": [
    "### 3.4 Answer\n",
    "\n"
   ]
  },
  {
   "cell_type": "markdown",
   "metadata": {},
   "source": [
    "Looking at the ribosome position charts (and upon further inspection), I noticed that ribosomes are only present at positions that are divisible by 3 (i.e. third nucleotide, sixth nucleotide, etc.). I believe that this would happen because the ribosome is only binding to the end of a codon, rather than in the middle or beginning. This would make sense for consistency of translation without frame shifting. \n",
    "\n",
    "Additionally, there are a far higher number of ribosomes at position three than at other positions. I would hypothesize that this happens because there is a delay from when the ribosome binds the first codon of an mRNA to when it starts actively translating. If this logic is correct, it appears that the ribosome translates the rest of the mRNA at a relatively constant speed."
   ]
  }
 ],
 "metadata": {
  "kernelspec": {
   "display_name": "Python 3 (ipykernel)",
   "language": "python",
   "name": "python3"
  },
  "language_info": {
   "codemirror_mode": {
    "name": "ipython",
    "version": 3
   },
   "file_extension": ".py",
   "mimetype": "text/x-python",
   "name": "python",
   "nbconvert_exporter": "python",
   "pygments_lexer": "ipython3",
   "version": "3.9.7"
  }
 },
 "nbformat": 4,
 "nbformat_minor": 4
}
